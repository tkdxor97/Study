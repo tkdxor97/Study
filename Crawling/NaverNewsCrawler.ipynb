{
 "cells": [
  {
   "cell_type": "code",
   "execution_count": 23,
   "metadata": {},
   "outputs": [],
   "source": [
    "import selenium\n",
    "from selenium import webdriver\n",
    "\n",
    "from selenium.webdriver.common.keys import Keys\n",
    "from selenium.webdriver.common.by import By\n",
    "\n",
    "from selenium.webdriver.support import expected_conditions as EC\n",
    "from selenium.webdriver.support.ui import WebDriverWait\n",
    "\n",
    "import time\n",
    "import pandas as pd"
   ]
  },
  {
   "cell_type": "markdown",
   "metadata": {},
   "source": [
    "### Naver뉴스에서 크롤링할 뉴스 카테고리 선택"
   ]
  },
  {
   "cell_type": "code",
   "execution_count": 28,
   "metadata": {},
   "outputs": [],
   "source": [
    "category = 4 # 1: 정치, 2: 경제, 3: 사회, 4: 생활/문화, 5: IT/과학, 6:세계"
   ]
  },
  {
   "cell_type": "markdown",
   "metadata": {},
   "source": [
    "### 네이버 뉴스 페이지 접속"
   ]
  },
  {
   "cell_type": "code",
   "execution_count": 29,
   "metadata": {},
   "outputs": [],
   "source": [
    "URL = \"https://news.naver.com/\"\n",
    "driver = webdriver.Chrome(executable_path='chromedriver')\n",
    "driver.get(url=URL)\n",
    "\n",
    "elements = driver.find_elements_by_class_name(\"Nlist_item\")\n",
    "elements[category].click()\n",
    "\n",
    "time.sleep(1)"
   ]
  },
  {
   "cell_type": "markdown",
   "metadata": {},
   "source": [
    "### 뉴스기사 크롤링"
   ]
  },
  {
   "cell_type": "code",
   "execution_count": 30,
   "metadata": {},
   "outputs": [
    {
     "name": "stderr",
     "output_type": "stream",
     "text": [
      "<ipython-input-30-45466ad1c283>:17: DeprecationWarning: use driver.switch_to.window instead\n",
      "  driver.switch_to_window(driver.window_handles[len(driver.window_handles)-1])\n",
      "<ipython-input-30-45466ad1c283>:29: DeprecationWarning: use driver.switch_to.window instead\n",
      "  driver.switch_to_window(driver.window_handles[0])\n",
      "<ipython-input-30-45466ad1c283>:40: DeprecationWarning: use driver.switch_to.window instead\n",
      "  driver.switch_to_window(driver.window_handles[-1])\n",
      "<ipython-input-30-45466ad1c283>:51: DeprecationWarning: use driver.switch_to.window instead\n",
      "  driver.switch_to_window(driver.window_handles[len(driver.window_handles)-1])\n",
      "<ipython-input-30-45466ad1c283>:63: DeprecationWarning: use driver.switch_to.window instead\n",
      "  driver.switch_to_window(driver.window_handles[-1])\n",
      "<ipython-input-30-45466ad1c283>:65: DeprecationWarning: use driver.switch_to.window instead\n",
      "  driver.switch_to_window(driver.window_handles[0])\n",
      "<ipython-input-30-45466ad1c283>:71: DeprecationWarning: use driver.switch_to.window instead\n",
      "  driver.switch_to_window(driver.window_handles[0])\n"
     ]
    },
    {
     "name": "stdout",
     "output_type": "stream",
     "text": [
      "Error\n"
     ]
    }
   ],
   "source": [
    "##### 초기화 #####\n",
    "\n",
    "headlines = []\n",
    "contents = []\n",
    "urls = []\n",
    "dates = []\n",
    "\n",
    "##### 1페이지에 있는 뉴스기사 크롤링 #####\n",
    "\n",
    "body = driver.find_element_by_class_name(\"section_body\")\n",
    "links = body.find_elements_by_class_name(\"photo\")\n",
    "for i in range(len(links)):\n",
    "    target = links[i].find_element_by_tag_name(\"a\")\n",
    "    target.send_keys(Keys.CONTROL + \"\\n\")\n",
    "time.sleep(1)\n",
    "for i in range(len(links)):\n",
    "    driver.switch_to_window(driver.window_handles[len(driver.window_handles)-1])\n",
    "    try:\n",
    "        element = WebDriverWait(driver, 10).until(EC.presence_of_element_located((By.CLASS_NAME, \"media_end_head_headline\")))\n",
    "    except:\n",
    "        driver.close()\n",
    "        continue\n",
    "    headlines.append(driver.find_element_by_class_name(\"media_end_head_headline\").text)\n",
    "    contents.append(driver.find_element_by_id(\"dic_area\").text)\n",
    "    dates.append(driver.find_element_by_class_name(\"media_end_head_info_datestamp\").find_element_by_tag_name(\"span\").text)\n",
    "    urls.append(driver.current_url)\n",
    "    driver.close()\n",
    "\n",
    "driver.switch_to_window(driver.window_handles[0])\n",
    "\n",
    "##### 2페이지부터 모든 페이지까지 뉴스기사 크롤링 #####\n",
    "\n",
    "paging = driver.find_element_by_class_name(\"paging\")\n",
    "pages = paging.find_elements_by_tag_name(\"a\")\n",
    "while(1):\n",
    "    for page in pages:\n",
    "        if(page.text != \"이전\"):\n",
    "            page.send_keys(Keys.CONTROL + \"\\n\")\n",
    "            time.sleep(1)\n",
    "            driver.switch_to_window(driver.window_handles[-1])\n",
    "            element = WebDriverWait(driver, 10).until(EC.presence_of_element_located((By.CLASS_NAME, \"section_body\")))\n",
    "            body = driver.find_element_by_class_name(\"section_body\")\n",
    "            links = body.find_elements_by_class_name(\"photo\")\n",
    "\n",
    "            for i in range(len(links)):\n",
    "                target = links[i].find_element_by_tag_name(\"a\")\n",
    "                target.send_keys(Keys.CONTROL + \"\\n\")\n",
    "                \n",
    "            time.sleep(1)\n",
    "            for i in range(len(links)):\n",
    "                driver.switch_to_window(driver.window_handles[len(driver.window_handles)-1])\n",
    "                try:\n",
    "                    element = WebDriverWait(driver, 10).until(EC.presence_of_element_located((By.CLASS_NAME, \"media_end_head_headline\")))\n",
    "                except:\n",
    "                    driver.close()\n",
    "                    continue\n",
    "                headlines.append(driver.find_element_by_class_name(\"media_end_head_headline\").text)\n",
    "                contents.append(driver.find_element_by_id(\"dic_area\").text)\n",
    "                dates.append(driver.find_element_by_class_name(\"media_end_head_info_datestamp\").find_element_by_tag_name(\"span\").text)\n",
    "                urls.append(driver.current_url)\n",
    "                driver.close()\n",
    "            driver.switch_to_window(driver.window_handles[-1])\n",
    "            driver.close()\n",
    "            driver.switch_to_window(driver.window_handles[0])\n",
    "    if(pages[-1].text != \"다음\"):\n",
    "        break\n",
    "    \n",
    "    pages[-1].send_keys(Keys.CONTROL + \"\\n\")\n",
    "    driver.close()\n",
    "    driver.switch_to_window(driver.window_handles[0])\n",
    "    element = WebDriverWait(driver, 10).until(EC.presence_of_element_located((By.CLASS_NAME, \"paging\")))\n",
    "    paging = driver.find_element_by_class_name(\"paging\")\n",
    "    pages = paging.find_elements_by_tag_name(\"a\")\n",
    "    time.sleep(3)\n",
    "\n",
    "driver.close() # Chrome Webdriver 종료"
   ]
  },
  {
   "cell_type": "markdown",
   "metadata": {},
   "source": [
    "### 크롤링한 데이터를 csv파일로 저장"
   ]
  },
  {
   "cell_type": "code",
   "execution_count": 31,
   "metadata": {},
   "outputs": [],
   "source": [
    "df = pd.DataFrame()\n",
    "\n",
    "df['title'] = headlines\n",
    "df['text'] = contents\n",
    "df['url'] = urls\n",
    "df['date'] = dates\n",
    "df = df.drop_duplicates(ignore_index = True)\n",
    "\n",
    "categories = ['', 'politics', 'economy', 'society', 'life', 'IT', 'world']\n",
    "df.to_csv(\"NaverNews_\" + categories[category] + \".csv\", encoding = 'utf-8-sig', index = False)"
   ]
  },
  {
   "cell_type": "code",
   "execution_count": null,
   "metadata": {},
   "outputs": [],
   "source": []
  }
 ],
 "metadata": {
  "kernelspec": {
   "display_name": "Python 3",
   "language": "python",
   "name": "python3"
  },
  "language_info": {
   "codemirror_mode": {
    "name": "ipython",
    "version": 3
   },
   "file_extension": ".py",
   "mimetype": "text/x-python",
   "name": "python",
   "nbconvert_exporter": "python",
   "pygments_lexer": "ipython3",
   "version": "3.8.5"
  }
 },
 "nbformat": 4,
 "nbformat_minor": 4
}
